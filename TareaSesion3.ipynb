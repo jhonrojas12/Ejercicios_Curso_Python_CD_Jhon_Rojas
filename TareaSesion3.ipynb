{
 "cells": [
  {
   "cell_type": "markdown",
   "metadata": {},
   "source": [
    "Tarea Sesion 3 - ML1"
   ]
  },
  {
   "cell_type": "code",
   "execution_count": 55,
   "metadata": {},
   "outputs": [
    {
     "data": {
      "text/html": [
       "<div>\n",
       "<style scoped>\n",
       "    .dataframe tbody tr th:only-of-type {\n",
       "        vertical-align: middle;\n",
       "    }\n",
       "\n",
       "    .dataframe tbody tr th {\n",
       "        vertical-align: top;\n",
       "    }\n",
       "\n",
       "    .dataframe thead th {\n",
       "        text-align: right;\n",
       "    }\n",
       "</style>\n",
       "<table border=\"1\" class=\"dataframe\">\n",
       "  <thead>\n",
       "    <tr style=\"text-align: right;\">\n",
       "      <th></th>\n",
       "      <th>Age</th>\n",
       "      <th>Workclass</th>\n",
       "      <th>fnlwgt</th>\n",
       "      <th>Education</th>\n",
       "      <th>Education-Num</th>\n",
       "      <th>Martial Status</th>\n",
       "      <th>Occupation</th>\n",
       "      <th>Relationship</th>\n",
       "      <th>Race</th>\n",
       "      <th>Sex</th>\n",
       "      <th>Capital Gain</th>\n",
       "      <th>Capital Loss</th>\n",
       "      <th>Hours per week</th>\n",
       "      <th>Country</th>\n",
       "      <th>Income</th>\n",
       "    </tr>\n",
       "  </thead>\n",
       "  <tbody>\n",
       "    <tr>\n",
       "      <th>0</th>\n",
       "      <td>39</td>\n",
       "      <td>State-gov</td>\n",
       "      <td>77516</td>\n",
       "      <td>Bachelors</td>\n",
       "      <td>13</td>\n",
       "      <td>Never-married</td>\n",
       "      <td>Adm-clerical</td>\n",
       "      <td>Not-in-family</td>\n",
       "      <td>White</td>\n",
       "      <td>Male</td>\n",
       "      <td>2174</td>\n",
       "      <td>0</td>\n",
       "      <td>40</td>\n",
       "      <td>United-States</td>\n",
       "      <td>51806.0</td>\n",
       "    </tr>\n",
       "    <tr>\n",
       "      <th>1</th>\n",
       "      <td>50</td>\n",
       "      <td>Self-emp-not-inc</td>\n",
       "      <td>83311</td>\n",
       "      <td>Bachelors</td>\n",
       "      <td>13</td>\n",
       "      <td>Married-civ-spouse</td>\n",
       "      <td>Exec-managerial</td>\n",
       "      <td>Husband</td>\n",
       "      <td>White</td>\n",
       "      <td>Male</td>\n",
       "      <td>0</td>\n",
       "      <td>0</td>\n",
       "      <td>13</td>\n",
       "      <td>United-States</td>\n",
       "      <td>68719.0</td>\n",
       "    </tr>\n",
       "    <tr>\n",
       "      <th>2</th>\n",
       "      <td>38</td>\n",
       "      <td>Private</td>\n",
       "      <td>215646</td>\n",
       "      <td>HS-grad</td>\n",
       "      <td>9</td>\n",
       "      <td>Divorced</td>\n",
       "      <td>Handlers-cleaners</td>\n",
       "      <td>Not-in-family</td>\n",
       "      <td>White</td>\n",
       "      <td>Male</td>\n",
       "      <td>0</td>\n",
       "      <td>0</td>\n",
       "      <td>40</td>\n",
       "      <td>United-States</td>\n",
       "      <td>51255.0</td>\n",
       "    </tr>\n",
       "    <tr>\n",
       "      <th>3</th>\n",
       "      <td>53</td>\n",
       "      <td>Private</td>\n",
       "      <td>234721</td>\n",
       "      <td>11th</td>\n",
       "      <td>7</td>\n",
       "      <td>Married-civ-spouse</td>\n",
       "      <td>Handlers-cleaners</td>\n",
       "      <td>Husband</td>\n",
       "      <td>Black</td>\n",
       "      <td>Male</td>\n",
       "      <td>0</td>\n",
       "      <td>0</td>\n",
       "      <td>40</td>\n",
       "      <td>United-States</td>\n",
       "      <td>47398.0</td>\n",
       "    </tr>\n",
       "    <tr>\n",
       "      <th>4</th>\n",
       "      <td>28</td>\n",
       "      <td>Private</td>\n",
       "      <td>338409</td>\n",
       "      <td>Bachelors</td>\n",
       "      <td>13</td>\n",
       "      <td>Married-civ-spouse</td>\n",
       "      <td>Prof-specialty</td>\n",
       "      <td>Wife</td>\n",
       "      <td>Black</td>\n",
       "      <td>Female</td>\n",
       "      <td>0</td>\n",
       "      <td>0</td>\n",
       "      <td>40</td>\n",
       "      <td>Cuba</td>\n",
       "      <td>30493.0</td>\n",
       "    </tr>\n",
       "  </tbody>\n",
       "</table>\n",
       "</div>"
      ],
      "text/plain": [
       "   Age         Workclass  fnlwgt  Education  Education-Num  \\\n",
       "0   39         State-gov   77516  Bachelors             13   \n",
       "1   50  Self-emp-not-inc   83311  Bachelors             13   \n",
       "2   38           Private  215646    HS-grad              9   \n",
       "3   53           Private  234721       11th              7   \n",
       "4   28           Private  338409  Bachelors             13   \n",
       "\n",
       "       Martial Status         Occupation   Relationship   Race     Sex  \\\n",
       "0       Never-married       Adm-clerical  Not-in-family  White    Male   \n",
       "1  Married-civ-spouse    Exec-managerial        Husband  White    Male   \n",
       "2            Divorced  Handlers-cleaners  Not-in-family  White    Male   \n",
       "3  Married-civ-spouse  Handlers-cleaners        Husband  Black    Male   \n",
       "4  Married-civ-spouse     Prof-specialty           Wife  Black  Female   \n",
       "\n",
       "   Capital Gain  Capital Loss  Hours per week        Country   Income  \n",
       "0          2174             0              40  United-States  51806.0  \n",
       "1             0             0              13  United-States  68719.0  \n",
       "2             0             0              40  United-States  51255.0  \n",
       "3             0             0              40  United-States  47398.0  \n",
       "4             0             0              40           Cuba  30493.0  "
      ]
     },
     "execution_count": 55,
     "metadata": {},
     "output_type": "execute_result"
    }
   ],
   "source": [
    "#Instalacion de paquetes e importe de data\n",
    "\n",
    "import pandas as pd\n",
    "import numpy as np\n",
    "\n",
    "%matplotlib inline\n",
    "import matplotlib.pyplot as plt\n",
    "\n",
    "from sklearn.linear_model import LinearRegression\n",
    "from sklearn.linear_model import SGDRegressor\n",
    "from sklearn import metrics\n",
    "# read the data and set the datetime as the index\n",
    "data = pd.read_csv('income.csv', index_col=0)\n",
    "\n",
    "data.head()"
   ]
  },
  {
   "cell_type": "code",
   "execution_count": 56,
   "metadata": {},
   "outputs": [
    {
     "data": {
      "text/plain": [
       "(32561, 15)"
      ]
     },
     "execution_count": 56,
     "metadata": {},
     "output_type": "execute_result"
    }
   ],
   "source": [
    "data.shape"
   ]
  },
  {
   "cell_type": "markdown",
   "metadata": {},
   "source": [
    "Punto 3.1\n",
    "¿Cuál es la relación entre la edad y los ingresos?\n",
    "\n",
    "Para un aumento del uno por ciento en la Edad, ¿cuánto aumenta el ingreso?\n",
    "\n",
    "Usando sklearn estimar una regresión lineal y predecir solo con la variable edad. Cual es el ingreso cuando la edad esta entre los 30 y 40 años (Grafique)"
   ]
  },
  {
   "cell_type": "code",
   "execution_count": 57,
   "metadata": {
    "scrolled": true
   },
   "outputs": [
    {
     "name": "stdout",
     "output_type": "stream",
     "text": [
      "[1.298990593549677e-16, array([0.       , 0.2904083])]\n",
      "Un aumento de 1% en la edad lleva a un aumento de 29% en el ingreso\n"
     ]
    },
    {
     "data": {
      "text/plain": [
       "[<matplotlib.lines.Line2D at 0x2ae343fd9b0>]"
      ]
     },
     "execution_count": 57,
     "metadata": {},
     "output_type": "execute_result"
    },
    {
     "data": {
      "image/png": "[encoded data removed]",
      "text/plain": [
       "<Figure size 432x288 with 1 Axes>"
      ]
     },
     "metadata": {
      "needs_background": "light"
     },
     "output_type": "display_data"
    }
   ],
   "source": [
    "#Punto 3.1 ¿Cuál es la relación entre la edad y los ingresos?\n",
    "#Para un aumento del uno por ciento en la Edad, ¿cuánto aumenta el ingreso?\n",
    "#Usando sklearn estimar una regresión lineal y predecir solo con la variable edad. Cual es el ingreso cuando la edad esta entre los 30 y 40 años (Grafique)\n",
    "\n",
    "#data.plot(x='Age', y='Income', kind='scatter')\n",
    "#plt.style.use('bmh')\n",
    "y = data['Income'].values\n",
    "X = data['Age'].values\n",
    "x = data['Age'].values\n",
    "y_mean, y_std = y.mean(), y.std()\n",
    "X_mean, X_std = X.mean(), X.std()\n",
    "\n",
    "y = (y - y_mean)/ y_std\n",
    "X = (X - X_mean)/ X_std\n",
    "n_samples = X.shape[0]\n",
    "X_ = np.c_[np.ones(n_samples), X]\n",
    "x_ = np.c_[np.ones(n_samples), x]\n",
    "\n",
    "lm=LinearRegression(fit_intercept=True)\n",
    "lm.fit(X_, y)\n",
    "lm.coef_\n",
    "lm.intercept_\n",
    "print([lm.intercept_,lm.coef_])\n",
    "#print(\"Un aumento de 1% en la edad lleva a un aumento de \" + str(lm.coef_) + \"% en el ingreso\")\n",
    "print(\"Un aumento de 1% en la edad lleva a un aumento de \" + \"29%\" + \" en el ingreso\")\n",
    "preds=lm.predict(x_)\n",
    "preds2=lm.predict(X_)\n",
    "\n",
    "def lr_h(beta,x):\n",
    "    return np.dot(beta, x.T)\n",
    "\n",
    "\n",
    "\n",
    "edades= np.arange(30, 40, 0.5)\n",
    "n_samples = edades.shape[0]\n",
    "edades_=np.c_[np.ones(n_samples), edades]\n",
    "\n",
    "#pred_income=lr_h([lm.intercept_,lm.coef_],edades_)\n",
    "preds_income=lm.predict(edades_)\n",
    "#plt.plot(edades_[:, 1],pred_income, 'r', lw=5)\n",
    "plt.plot(edades,preds_income, 'r', lw=5)"
   ]
  },
  {
   "cell_type": "code",
   "execution_count": 58,
   "metadata": {},
   "outputs": [
    {
     "name": "stdout",
     "output_type": "stream",
     "text": [
      "MAE: 53444.60472782705\n",
      "MSE: 3504740526.6989455\n",
      "RMSE: 59200.849036977044\n",
      "MAE: 0.7472040110961875\n",
      "MSE: 0.9156630204513287\n",
      "RMSE: 0.9569028270683125\n"
     ]
    }
   ],
   "source": [
    "#Punto 3.2\n",
    "#Evalue el modelo usando las metricas vistas (MAE,MSE,RMSE)\n",
    "print('MAE:', metrics.mean_absolute_error(data['Income'], preds))\n",
    "print('MSE:', metrics.mean_squared_error(data['Income'], preds))\n",
    "print('RMSE:', np.sqrt(metrics.mean_squared_error(data['Income'], preds)))\n",
    "\n",
    "print('MAE:', metrics.mean_absolute_error(y, preds2))\n",
    "print('MSE:', metrics.mean_squared_error(y, preds2))\n",
    "print('RMSE:', np.sqrt(metrics.mean_squared_error(y, preds2)))"
   ]
  },
  {
   "cell_type": "code",
   "execution_count": 46,
   "metadata": {},
   "outputs": [
    {
     "name": "stdout",
     "output_type": "stream",
     "text": [
      "MAE modelo 2: 18263.029703946428\n",
      "MSE modelo 2: 524257527.07200557\n",
      "RMSE modelo 2: 22896.67065474816\n",
      "Usando solo la edad la estimacion es peor\n"
     ]
    }
   ],
   "source": [
    "#Punto 3.4\n",
    "#Evalue el modelo anterior usando las metricas vistas (MAE,MSE,RMSE)\n",
    "#¿Cómo es el rendimiento con el uso de la edad unicamente?\n",
    "print('MAE modelo 2:', metrics.mean_absolute_error(data['Income'], preds2))\n",
    "print('MSE modelo 2:', metrics.mean_squared_error(data['Income'], preds2))\n",
    "print('RMSE modelo 2:', np.sqrt(metrics.mean_squared_error(data['Income'], preds2)))\n",
    "print(\"Usando solo la edad la estimacion es peor\")"
   ]
  }
 ],
 "metadata": {
  "kernelspec": {
   "display_name": "Python 3",
   "language": "python",
   "name": "python3"
  },
  "language_info": {
   "codemirror_mode": {
    "name": "ipython",
    "version": 3
   },
   "file_extension": ".py",
   "mimetype": "text/x-python",
   "name": "python",
   "nbconvert_exporter": "python",
   "pygments_lexer": "ipython3",
   "version": "3.7.3"
  }
 },
 "nbformat": 4,
 "nbformat_minor": 2
}
