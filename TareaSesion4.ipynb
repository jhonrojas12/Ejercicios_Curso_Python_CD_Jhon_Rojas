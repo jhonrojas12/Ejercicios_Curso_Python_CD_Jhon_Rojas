{
 "cells": [
  {
   "cell_type": "markdown",
   "metadata": {},
   "source": [
    "Ejercicio Sesion 4"
   ]
  },
  {
   "cell_type": "code",
   "execution_count": 13,
   "metadata": {},
   "outputs": [
    {
     "data": {
      "text/plain": [
       "Index(['Account Length', 'Area Code', 'Phone', 'Intl Plan', 'VMail Plan',\n",
       "       'VMail Message', 'Day Mins', 'Day Calls', 'Day Charge', 'Eve Mins',\n",
       "       'Eve Calls', 'Eve Charge', 'Night Mins', 'Night Calls', 'Night Charge',\n",
       "       'Intl Mins', 'Intl Calls', 'Intl Charge', 'CustServ Calls', 'Churn?'],\n",
       "      dtype='object')"
      ]
     },
     "execution_count": 13,
     "metadata": {},
     "output_type": "execute_result"
    }
   ],
   "source": [
    "#Importacion de paquetes y descarga de data\n",
    "import pandas as pd\n",
    "import numpy as np\n",
    "import math\n",
    "import matplotlib.pyplot as plt\n",
    "from sklearn.linear_model import LinearRegression\n",
    "from sklearn import metrics\n",
    "from sklearn.linear_model import LogisticRegression\n",
    "from sklearn.model_selection import train_test_split\n",
    "\n",
    "data = pd.read_csv('churn.txt', sep=\",\")\n",
    "data.columns\n"
   ]
  },
  {
   "cell_type": "code",
   "execution_count": 14,
   "metadata": {},
   "outputs": [],
   "source": [
    "#Creacion de variable dummy de plan de internet\n",
    "dummy=pd.get_dummies(data[\"Intl Plan\"])\n",
    "#data=pd.concat([data,dymmy], axis=1)    \n",
    "data['InternetPlan']=dummy['yes']\n",
    "\n",
    "#Creacion de variable dummy de plan de internet\n",
    "dummy2=pd.get_dummies(data[\"Churn?\"])\n",
    "#data=pd.concat([data,dymmy], axis=1)    \n",
    "data['Churn']=dummy2['True.']\n",
    "\n",
    "#data['Churn']\n",
    "\n",
    "\n",
    "\n"
   ]
  },
  {
   "cell_type": "code",
   "execution_count": 15,
   "metadata": {},
   "outputs": [
    {
     "data": {
      "image/png": "[encoded data removed]",
      "text/plain": [
       "<Figure size 432x288 with 1 Axes>"
      ]
     },
     "metadata": {
      "needs_background": "light"
     },
     "output_type": "display_data"
    }
   ],
   "source": [
    "#4.1 Cree Y y X, Cual es la distribución de los churners?, Divida el dataset en train (70%) and test (30%)\n",
    "#X y Y\n",
    "y = data['Churn']\n",
    "n_samples = y.shape[0]\n",
    "\n",
    "feature_cols = ['Day Mins','Eve Calls','InternetPlan']\n",
    "\n",
    "X = data[feature_cols]\n",
    "X_ = np.c_[np.ones(n_samples), X]\n",
    "\n",
    "#distribucion de y\n",
    "#a\n",
    "y.value_counts().sort_index()\n",
    "#b\n",
    "\n",
    "#n=math.ceil(math.sqrt(n_samples))\n",
    "n=2\n",
    "plt.hist(y, bins=n)\n",
    "plt.xlim(0, 1)\n",
    "plt.title('Histogram of response variable')\n",
    "plt.xlabel('Churn')\n",
    "plt.ylabel('Frequency')\n",
    "\n",
    "#Diviidar base en train y test\n",
    "X_train, X_test, y_train, y_test = train_test_split(X, y, random_state=0,test_size=0.25)\n"
   ]
  },
  {
   "cell_type": "code",
   "execution_count": 16,
   "metadata": {},
   "outputs": [],
   "source": [
    "#4.2 Entrene una regresion logistica usando el set de train y aplique el algoritmo en el set de test\n",
    "logreg = LogisticRegression(solver='liblinear',C=1e9)\n",
    "logreg.fit(X_train, y_train)\n",
    "y_pred_class = logreg.predict(X_test)\n",
    "y_pred_prob = logreg.predict_proba(X_test)[:, 1]\n",
    "\n",
    "\n",
    "\n"
   ]
  },
  {
   "cell_type": "code",
   "execution_count": 67,
   "metadata": {},
   "outputs": [
    {
     "name": "stdout",
     "output_type": "stream",
     "text": [
      "[[702  17]\n",
      " [104  11]]\n",
      "0.854916067146283\n",
      "0.854916067146283\n",
      "0.145083932853717\n",
      "0.09565217391304348\n",
      "0.9763560500695411\n",
      "0.39285714285714285\n"
     ]
    }
   ],
   "source": [
    "#4.3 Cree la matriz de confusion, Estime el accuracy y otras medidas desempeño\n",
    "#Matriz de confusion\n",
    "confusion =metrics.confusion_matrix(y_test, y_pred_class)\n",
    "print(confusion)\n",
    "TP = confusion[1, 1]\n",
    "TN = confusion[0, 0]\n",
    "FP = confusion[0, 1]\n",
    "FN = confusion[1, 0]\n",
    "\n",
    "#null accuracy\n",
    "print(metrics.accuracy_score(y_test, y_pred_class))\n",
    "\n",
    "#accuracy\n",
    "#print((TP + TN) / float(TP + TN + FP + FN))\n",
    "print(metrics.accuracy_score(y_test, y_pred_class))\n",
    "\n",
    "#Classification Error\n",
    "#print((FP + FN) / float(TP + TN + FP + FN))\n",
    "print(1 - metrics.accuracy_score(y_test, y_pred_class))\n",
    "\n",
    "#Sensitivity/Recall/true positive rate\n",
    "#print(TP / float(TP + FN))\n",
    "print(metrics.recall_score(y_test, y_pred_class))\n",
    "\n",
    "#Specificity/true negative rate\n",
    "print(TN / float(TN + FP))\n",
    "\n",
    "#Presition\n",
    "#print(TP / float(TP + FP))\n",
    "print(metrics.precision_score(y_test, y_pred_class))"
   ]
  }
 ],
 "metadata": {
  "kernelspec": {
   "display_name": "Python 3",
   "language": "python",
   "name": "python3"
  },
  "language_info": {
   "codemirror_mode": {
    "name": "ipython",
    "version": 3
   },
   "file_extension": ".py",
   "mimetype": "text/x-python",
   "name": "python",
   "nbconvert_exporter": "python",
   "pygments_lexer": "ipython3",
   "version": "3.7.3"
  }
 },
 "nbformat": 4,
 "nbformat_minor": 2
}
